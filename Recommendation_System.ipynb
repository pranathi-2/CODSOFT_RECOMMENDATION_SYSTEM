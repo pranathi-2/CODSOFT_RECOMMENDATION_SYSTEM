{
  "nbformat": 4,
  "nbformat_minor": 0,
  "metadata": {
    "colab": {
      "provenance": [],
      "authorship_tag": "ABX9TyN5LjgELalSTJ3+PzF0cCPd"
    },
    "kernelspec": {
      "name": "python3",
      "display_name": "Python 3"
    },
    "language_info": {
      "name": "python"
    }
  },
  "cells": [
    {
      "cell_type": "code",
      "execution_count": 2,
      "metadata": {
        "colab": {
          "base_uri": "https://localhost:8080/"
        },
        "id": "O8SrfKGblmQh",
        "outputId": "eb46c181-65c2-477c-fe95-a2678e05f8e0"
      },
      "outputs": [
        {
          "output_type": "stream",
          "name": "stdout",
          "text": [
            "Random Book Recommendation:\n",
            "Title: Radiance\n",
            "Author: Catherynne M. Valente\n",
            "Description: \"Severin Unck's father is a famous director of Gothic romances in an alternate 1986 in which talking movies are still a daring innovation due to the patent-hoarding Edison family. Rebelling against her father's films of passion, intrigue, and spirits from beyond, Severin starts making documentaries, traveling through space and investigating the levitator cults of Neptune and the lawless saloons of Mars. For this is not our solar system, but one drawn from classic science fiction, in which all the planets are inhabited and we travel through space on beautiful rockets. Severin is a realist in a fantastic universe\"--Dust jacket flap.\n"
          ]
        }
      ],
      "source": [
        "import requests\n",
        "import random\n",
        "import pandas as pd\n",
        "def fetch_latest_books(query=''):\n",
        "    url = f'https://www.googleapis.com/books/v1/volumes?q={query}&maxResults=5'\n",
        "    response = requests.get(url)\n",
        "    if response.status_code == 200:\n",
        "        books_data = response.json()\n",
        "        books = []\n",
        "        for item in books_data['items']:\n",
        "            title = item['volumeInfo'].get('title', 'No title')\n",
        "            author = item['volumeInfo'].get('authors', ['Unknown author'])[0]\n",
        "            description = item['volumeInfo'].get('description', 'No description available.')\n",
        "            books.append({'title': title, 'author': author, 'description': description})\n",
        "        return books\n",
        "    else:\n",
        "        print(\"Error fetching books data.\")\n",
        "        return []\n",
        "latest_books = fetch_latest_books(query=\"fiction\")\n",
        "df_latest_books = pd.DataFrame(latest_books)\n",
        "def recommend_random_book():\n",
        "    if not df_latest_books.empty:\n",
        "        random_book = df_latest_books.sample()\n",
        "        print(\"Random Book Recommendation:\")\n",
        "        print(f\"Title: {random_book['title'].values[0]}\")\n",
        "        print(f\"Author: {random_book['author'].values[0]}\")\n",
        "        print(f\"Description: {random_book['description'].values[0]}\")\n",
        "    else:\n",
        "        print(\"No books available to recommend.\")\n",
        "recommend_random_book()\n"
      ]
    }
  ]
}